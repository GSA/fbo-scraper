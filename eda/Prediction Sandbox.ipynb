{
 "cells": [
  {
   "cell_type": "code",
   "execution_count": 3,
   "metadata": {},
   "outputs": [],
   "source": [
    "import os\n",
    "import dill as pickle\n",
    "import json\n",
    "import re\n",
    "import string\n",
    "import sys\n",
    "from nltk.stem.porter import PorterStemmer\n",
    "import logging"
   ]
  },
  {
   "cell_type": "markdown",
   "metadata": {},
   "source": [
    "# Unpickle the Model"
   ]
  },
  {
   "cell_type": "code",
   "execution_count": 4,
   "metadata": {},
   "outputs": [],
   "source": [
    "clf_path = '/Users/scottmcallister/Desktop/GitHub/fbo-scraper/utils/binaries/best_clf_accuracy.pkl'\n",
    "with open(clf_path, 'rb') as f:\n",
    "    pickled_model = pickle.load(f)"
   ]
  },
  {
   "cell_type": "markdown",
   "metadata": {},
   "source": [
    "# Dummy Text"
   ]
  },
  {
   "cell_type": "code",
   "execution_count": 6,
   "metadata": {},
   "outputs": [],
   "source": [
    "text = ['''\n",
    "Request for Information\n",
    "Software Composition Analysis Tool \n",
    "\n",
    "This is a Request for Information (RFI). This Sources Sought Notice is for informational and planning purposes only and shall not be construed as a solicitation or as an obligation or commitment by the Government. This announcement is not a request for proposals, and the Government is not committed to issue a solicitation or award a contract pursuant to this announcement or based on responses to this announcement. This notice is strictly for market research to assist the Government for planning purposes. The Government will not pay any costs incurred in the preparation of information for responding to this market survey or the Government’s use of the information.\n",
    "\n",
    "Purpose:\n",
    "\n",
    "The Social Security Administration (SSA) is seeking a COTS product to satisfy the Agency’s Open Source Policy that mandates that third party libraries used in development of agency applications undergo security testing.  SSA is currently using the Sonatype Nexus IQ Server product.  However, this tool does not meet data sorting, data retention and reporting requirements.  The purpose of this RFI is to identify potential vendors capable of meeting SSA’s requirements through a software composition analysis tool that is capable of evaluating applications for insecure third party libraries and licensing agreements.    \n",
    "Technical Requirements:\n",
    "\n",
    "•\tThe solution shall identify and rank security vulnerabilities associated with open source third party libraries \n",
    "•\tThe solution shall provide additional context on vulnerabilities, including whether an exploit exists, potential attack vectors, and time to triage vulnerabilities.  Please specify if this information is native to the proposed solution or if a third party tool is required for this information. \n",
    "•\tThe solution shall provide prioritization rankings for which vulnerabilities to address first.\n",
    "•\tThe solution shall provide intuitive dashboard for viewing results\n",
    "•\tThe solution shall support the ability to filter security testing results\n",
    "•\tThe solution shall support the ability to generate customizable reports\n",
    "•\tThe solution shall support the ability to show the next non-vulnerable version of the component and/or the lowest risk version that is available.  \n",
    "•\tThe solution shall integrate with Jenkins and Fortify products\n",
    "•\tThe solution shall support the ability to generate custom reports about scans and projects and tailor them for different audiences (e.g., Project Managers, First Lines Supervisors, Executives, etc.)\n",
    "•\tThe solution shall retain application scan data for one year\n",
    "•\tThe solution shall support the ability to generate the following information:\n",
    "o\twhich applications are using vulnerable versions of components, \n",
    "o\tthe security scores for each application \n",
    "o\tthe age of each vulnerable component\n",
    "o\tthe age and severity of vulnerabilities\n",
    "o\tlocation of the vulnerability in the code\n",
    "o\tCVEs of the affected application\n",
    "\n",
    "Support:\n",
    "\n",
    "•\tProduct maintenance to include downloadable upgrades, updates, fixes, and patches to the software solution.\n",
    "•\tProduct documentation to include guides and manuals for the solution.\n",
    "•\tTelephone, email, and web based support.\n",
    "\n",
    "Vendor Responses:\n",
    "\n",
    "Respondents must submit capability statements and information describing the general approach/solution to addressing the listed requirements. General marketing information or reference to vendor web sites will not be considered responsive to this notice.\n",
    "\n",
    "Interested firms with the capability of providing the requirement shall submit capability statements that demonstrate their expertise in the above-described areas in sufficient detail, including any other specific and relevant information, so the Government can determine the firm’s experience and capability to provide the requirements. Failure to demonstrate the capability of providing the requirement in response to this market survey may affect the Government’s review of the industry’s ability to perform or provide these requirements.\n",
    "All capability statements shall include the completed response matrix and questions below:\n",
    "Requirement\n",
    "Yes\n",
    "No\n",
    "Explain how solution meeting requirement\n",
    "The solution shall identify and rank security vulnerabilities associated with open source third party libraries\n",
    "\n",
    "\n",
    "\n",
    "The solution shall provide additional context on vulnerabilities, including whether an exploit exists, potential attack vectors, and time to triage vulnerabilities.  Please specify if this information is native to the proposed solution or if a third party tool is required for this information.\n",
    "\n",
    "\n",
    "\n",
    "The solution shall provide prioritization rankings for which vulnerabilities to address first.\n",
    "\n",
    "\n",
    "\n",
    "The solution shall provide intuitive dashboard for viewing results\n",
    "\n",
    "\n",
    "\n",
    "The solution shall support the ability to filter security testing results\n",
    "\n",
    "\n",
    "\n",
    "The solution shall support the ability to generate customizable reports\n",
    "\n",
    "\n",
    "\n",
    "The solution shall support the ability to show the next non-vulnerable version of the component\n",
    "\n",
    "\n",
    "\n",
    "The solution shall integrate with Jenkins and Fortify products\n",
    "\n",
    "\n",
    "\n",
    "The solution shall support the ability to generate custom reports about scans and projects and tailor them for different audiences (e.g., Project Managers, First Lines Supervisors, Executives, etc.)\n",
    "\n",
    "\n",
    "\n",
    "The solution shall retain application scan data for one year\n",
    "\n",
    "\n",
    "\n",
    "The solution shall support the ability to generate the following information:\n",
    "o\twhich applications are using vulnerable versions of components, \n",
    "o\tthe security scores for each application \n",
    "o\tthe age of each vulnerable component\n",
    "o\tthe age and severity of vulnerabilities\n",
    "o\tlocation of the vulnerability in the code\n",
    "o\tCVEs of the affected application\n",
    "\n",
    "\n",
    "\n",
    "\n",
    "Questions:\n",
    "•\tDescribe your potential solution.\n",
    "•\tIs your solution a commercial-off-the-shelf product?\n",
    "•\tIs your solution Section 508 compliant?  If so, please include a copy of the Voluntary Product Accessibility Template.\n",
    "•\tIs your solution IPv4 and/or IPv6 compliant?\n",
    "•\tHave you successfully implemented your solution?  If so, please provide details on the number of installations, size of the installations, etc. Indicate if the implementation is currently in production or in a testing environment.\n",
    "•\tCan you provide a demo of your potential solution?\n",
    "•\tDo you have any small business designations? Please list if yes.\n",
    "•\tDo you have this solution on a GSA Schedule or other GWAC?  If so, please provide GSA Schedule or GWAC number as well as GSA/GWAC and/or OEM part numbers.\n",
    "•\tIf the solution is delivered in a cloud environment (SaaS or other model) is the solution FedRamp Authorized? If so, how many authorizations currently exist? Does the solution use encryption at rest and in transit? What computing resources, storage resources, and network resources should we be planning for this service/item?\n",
    "•\tAre you able to provide on-site support for installation and operation / training for use of your product?\n",
    "•\tCan your product be installed on-premises? If so, what are the supported environments?\n",
    "\n",
    "Interested sources that believe they have the ability to provide the solution and perform the services listed herein should submit a detailed statement of their capabilities electronically via email to Samantha.Jonjo@ssa.gov . Please reference 28321319RI0000028in the email subject line. No telephone, mail, or fax responses will be accepted. Responses must be received by 12:00 noon  EST on January 2, 2019.\n",
    "\n",
    "In addition to capability statements, vendors must include the following:\n",
    "\n",
    "•\tOrganization Name, Address, Email Address, Website Address, and Telephone Number.\n",
    "•\tSize and Type of Ownership and Socioeconomic Designation for the organization [i.e. Small Business, Small Disadvantaged Business, 8(a), Women-owned Small Businesses, Veteran-owned Small Businesses, Service Disabled Veteran-owned Small Businesses, Historically Underutilized Business Zone Small Businesses, etc.].\n",
    "•\tAvailability of products and services on the GSA schedule if applicable.\n",
    "•\tBusiness experiences.\n",
    "•\tA completed Voluntary Product Accessibility Template (VPAT) of their solution. A blank VPAT can be obtained at: http://www.itic.org/dotAsset/5644ecd2-5024-417f-bc23-a52650f47ef8.doc\n",
    "\n",
    "Vendors must identify any proprietary information submitted in response to this Request for Information. The proprietary information must be clearly marked as proprietary. The government will not treat any other information as proprietary.\n",
    "\n",
    "The Government reserves the right to contact, or not contact, any party responding to this notice in order to obtain further information for market research purposes. The government will not notify respondents of the results of the evaluation of the information received and will not return submittals to the sender. All interested sources must respond to any potential future solicitation announcements separately from responses to this Request for Information. This is not a solicitation announcement for proposals and the government will not award a contract resulting directly from this announcement.\n",
    "\n",
    "''']"
   ]
  },
  {
   "cell_type": "markdown",
   "metadata": {},
   "source": [
    "# Normalize the Dummy Text"
   ]
  },
  {
   "cell_type": "code",
   "execution_count": 8,
   "metadata": {},
   "outputs": [],
   "source": [
    "def transform_text(doc):\n",
    "    \"\"\"\n",
    "    Returns stemmed lowercased alpha-only substrings from a string that are b/w 3 and 17 chars long. \n",
    "    It keeps the substring `508`.\n",
    "\n",
    "    Parameters:\n",
    "        doc (str): the text of a single FBO document.\n",
    "\n",
    "    Returns:\n",
    "        words (str): a string of space-delimited lower-case alpha-only words (except for `508`)\n",
    "    \"\"\"\n",
    "\n",
    "    #manually define stop_words to avoid nltk.download('stopwords')\n",
    "    stop_words = {'a','about','above','after','again','against','ain','all','am','an','and','any','are','aren',\"aren't\",\n",
    "    'as','at','be','because','been','before','being','below','between','both','but','by','can','couldn',\"couldn't\",'d','did',\n",
    "    'didn',\"didn't\",'do','does','doesn',\"doesn't\",'doing','don',\"don't\",'down','during','each','few','for','from','further',\n",
    "    'had','hadn',\"hadn't\",'has','hasn',\"hasn't\",'have','haven',\"haven't\",'having','he','her','here','hers','herself','him',\n",
    "    'himself','his','how','i','if','in','into','is','isn',\"isn't\",'it',\"it's\",'its','itself','just','ll','m','ma','me','mightn',\n",
    "    \"mightn't\",'more','most','mustn',\"mustn't\",'my','myself','needn',\"needn't\",'no','nor','not','now','o','of','off','on','once',\n",
    "    'only','or','other','our','ours','ourselves','out','over','own','re','s','same','shan',\"shan't\",'she',\"she's\",'should',\n",
    "    \"should've\",'shouldn',\"shouldn't\",'so','some','such','t','than','that',\"that'll\",'the','their','theirs','them','themselves',\n",
    "    'then','there','these','they','this','those','through','to','too','until','up','ve','very','was','wasn',\"wasn't\",'we',\n",
    "    'were','weren',\"weren't\",'what','when','where','which','while','who','whom','why','will','with','won',\"won't\",'wouldn',\"wouldn't\",\n",
    "    'y','you',\"you'd\",\"you'll\",\"you're\",\"you've\",'your','yours','yourself','yourselves'}\n",
    "    no_nonsense_re = re.compile(r'^[a-zA-Z^508]+$')\n",
    "    if not isinstance(doc, str):\n",
    "        logging.warning(f'Found a non-string doc type of {type(doc)}:  {doc}')\n",
    "        return str(doc).lower()\n",
    "    doc = doc.lower()\n",
    "    doc = doc.split()\n",
    "    words = ''\n",
    "    for word in doc:\n",
    "        m = re.match(no_nonsense_re, word)\n",
    "        if m:\n",
    "            match = m.group()\n",
    "            if match in stop_words:\n",
    "                continue\n",
    "            else:\n",
    "                match_len = len(match)\n",
    "                if match_len <= 17 and match_len >= 3:\n",
    "                    porter = PorterStemmer()\n",
    "                    stemmed = porter.stem(match)\n",
    "                    words += stemmed + ' '\n",
    "    words = words.strip()\n",
    "\n",
    "    return words"
   ]
  },
  {
   "cell_type": "code",
   "execution_count": 9,
   "metadata": {},
   "outputs": [],
   "source": [
    "normalized_text = transform_text(text[0])"
   ]
  },
  {
   "cell_type": "code",
   "execution_count": 11,
   "metadata": {},
   "outputs": [],
   "source": [
    "pred = pickled_model.predict([normalized_text])"
   ]
  },
  {
   "cell_type": "code",
   "execution_count": 12,
   "metadata": {},
   "outputs": [
    {
     "data": {
      "text/plain": [
       "array([0])"
      ]
     },
     "execution_count": 12,
     "metadata": {},
     "output_type": "execute_result"
    }
   ],
   "source": [
    "pred"
   ]
  },
  {
   "cell_type": "code",
   "execution_count": 13,
   "metadata": {},
   "outputs": [],
   "source": [
    "dec_func = pickled_model.decision_function([normalized_text])"
   ]
  },
  {
   "cell_type": "code",
   "execution_count": 14,
   "metadata": {},
   "outputs": [
    {
     "data": {
      "text/plain": [
       "array([-0.20020642])"
      ]
     },
     "execution_count": 14,
     "metadata": {},
     "output_type": "execute_result"
    }
   ],
   "source": [
    "#This confidence score for a sample is the signed distance of that sample to the class-dividing hyperplane.\n",
    "dec_func"
   ]
  },
  {
   "cell_type": "code",
   "execution_count": null,
   "metadata": {},
   "outputs": [],
   "source": []
  }
 ],
 "metadata": {
  "kernelspec": {
   "display_name": "Python 3",
   "language": "python",
   "name": "python3"
  },
  "language_info": {
   "codemirror_mode": {
    "name": "ipython",
    "version": 3
   },
   "file_extension": ".py",
   "mimetype": "text/x-python",
   "name": "python",
   "nbconvert_exporter": "python",
   "pygments_lexer": "ipython3",
   "version": "3.6.5"
  }
 },
 "nbformat": 4,
 "nbformat_minor": 2
}
