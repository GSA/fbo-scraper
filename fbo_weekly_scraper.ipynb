{
 "cells": [
  {
   "cell_type": "code",
   "execution_count": 2,
   "metadata": {},
   "outputs": [],
   "source": [
    "import json\n",
    "import urllib\n",
    "from contextlib import closing\n",
    "import shutil\n",
    "import datetime\n",
    "import os\n",
    "import xml.etree.ElementTree as ET"
   ]
  },
  {
   "cell_type": "code",
   "execution_count": 26,
   "metadata": {},
   "outputs": [],
   "source": [
    "url = 'ftp://ftp.fbo.gov/datagov/FBOFullXML.xml'\n",
    "def write_weekly_file(url):\n",
    "    out_path = os.path.join(os.getcwd(),\"weekly_files\")\n",
    "    if not os.path.exists(out_path):\n",
    "        os.makedirs(out_path)\n",
    "    now = datetime.datetime.now().strftime('%m-%d-%y')\n",
    "    file_name = 'fbo_weekly_'+now+'.xml'\n",
    "    with closing(urllib.request.urlopen(url)) as r:\n",
    "        file_path = os.path.join(out_path, file_name)\n",
    "        with open(file_path, 'wb') as f:\n",
    "            shutil.copyfileobj(r, f)\n",
    "    return file_path"
   ]
  },
  {
   "cell_type": "code",
   "execution_count": 27,
   "metadata": {},
   "outputs": [],
   "source": [
    "file_path = write_weekly_file(url)"
   ]
  },
  {
   "cell_type": "code",
   "execution_count": 3,
   "metadata": {},
   "outputs": [],
   "source": [
    "# Create an ElementTree object from the xml\n",
    "tree = ET.parse(file_path)\n",
    "#As an Element, root has a tag and a dictionary of attributes\n",
    "root = tree.getroot()"
   ]
  },
  {
   "cell_type": "code",
   "execution_count": 17,
   "metadata": {},
   "outputs": [],
   "source": [
    "def elem_to_dict(elem,strip=True):\n",
    "    \"\"\"Recursive function that converts an xml.etree.ElementTree.Element into a dictionary.\n",
    "    Arugments:\n",
    "        elem (an xml.etree.ElementTree.Element instance):  after creating an ElemenTree object from an xml file,\n",
    "                                                           the getroot() method will return an Element object.\n",
    "        strip (bool): whether or not to ignore leading and trailing whitespace in the text that corresponds to \n",
    "                      the xml tags.\n",
    "    \n",
    "    Returns:\n",
    "        tag_dict (dict): a dict containing and Element tag name and the text that corresponds to it.\n",
    "    \"\"\"\n",
    "\n",
    "    d = {}\n",
    "    for key, value in elem.attrib.items():\n",
    "        d['@'+key] = value\n",
    "    # loop over subelements to merge them\n",
    "    for subelem in elem:\n",
    "        v = elem_to_dict(subelem,strip=strip)\n",
    "        tag = subelem.tag\n",
    "        value = v[tag]\n",
    "        try:\n",
    "            # add to existing list for this tag\n",
    "            d[tag].append(value)\n",
    "        except AttributeError:\n",
    "            # turn existing entry into a list\n",
    "            d[tag] = [d[tag], value]\n",
    "        except KeyError:\n",
    "            # add a new non-list entry\n",
    "            d[tag] = value\n",
    "    text = elem.text\n",
    "    tail = elem.tail\n",
    "    if strip:\n",
    "        # ignore leading and trailing whitespace\n",
    "        if text: \n",
    "            text = text.strip()\n",
    "        if tail: \n",
    "            tail = tail.strip()\n",
    "    if tail:\n",
    "        d['#tail'] = tail\n",
    "    if d:\n",
    "        # use #text element if other attributes exist\n",
    "        if text: \n",
    "            d[\"#text\"] = text\n",
    "    else:\n",
    "        # text is the value if no attributes\n",
    "        d = text or None\n",
    "    tag_dict = {elem.tag: d}\n",
    "    return tag_dict"
   ]
  },
  {
   "cell_type": "code",
   "execution_count": 18,
   "metadata": {},
   "outputs": [],
   "source": [
    "def elem2json(elem, strip=True):\n",
    "    \"\"\"Convert an ElementTree or Element into a JSON string.\n",
    "    \"\"\"\n",
    "\n",
    "    if hasattr(elem, 'getroot'):\n",
    "        elem = elem.getroot()\n",
    "    return json.dumps(elem_to_dict(elem,strip=strip))"
   ]
  },
  {
   "cell_type": "code",
   "execution_count": 19,
   "metadata": {},
   "outputs": [],
   "source": [
    "elem_json = elem2json(root)"
   ]
  },
  {
   "cell_type": "code",
   "execution_count": 23,
   "metadata": {},
   "outputs": [],
   "source": [
    "json_file_path = file_path.replace(\"xml\",\"json\")\n",
    "with open(json_file_path, 'w') as f:\n",
    "    json.dump(elem_json, f)"
   ]
  },
  {
   "cell_type": "code",
   "execution_count": null,
   "metadata": {},
   "outputs": [],
   "source": []
  }
 ],
 "metadata": {
  "kernelspec": {
   "display_name": "Python 3",
   "language": "python",
   "name": "python3"
  },
  "language_info": {
   "codemirror_mode": {
    "name": "ipython",
    "version": 3
   },
   "file_extension": ".py",
   "mimetype": "text/x-python",
   "name": "python",
   "nbconvert_exporter": "python",
   "pygments_lexer": "ipython3",
   "version": "3.6.5"
  }
 },
 "nbformat": 4,
 "nbformat_minor": 2
}
